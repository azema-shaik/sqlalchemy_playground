{
 "cells": [
  {
   "cell_type": "code",
   "execution_count": 1,
   "id": "a726aced",
   "metadata": {},
   "outputs": [],
   "source": [
    "from models import Employee, Log, Department \n",
    "from engine import session"
   ]
  },
  {
   "cell_type": "code",
   "execution_count": 2,
   "id": "20c3ca25",
   "metadata": {},
   "outputs": [
    {
     "name": "stdout",
     "output_type": "stream",
     "text": [
      "2025-07-19 18:53:16,736 INFO sqlalchemy.engine.Engine BEGIN (implicit)\n",
      "2025-07-19 18:53:16,740 INFO sqlalchemy.engine.Engine SELECT employees.emp_id AS employees_emp_id, employees.first_name AS employees_first_name, employees.last_name AS employees_last_name, employees.gender AS employees_gender, employees.department_id AS employees_department_id \n",
      "FROM employees\n",
      "2025-07-19 18:53:16,741 INFO sqlalchemy.engine.Engine [generated in 0.00149s] ()\n"
     ]
    }
   ],
   "source": [
    "emps = session.query(Employee).all()"
   ]
  },
  {
   "cell_type": "code",
   "execution_count": 3,
   "id": "26e733d0",
   "metadata": {},
   "outputs": [
    {
     "name": "stdout",
     "output_type": "stream",
     "text": [
      "2025-07-19 18:53:18,345 INFO sqlalchemy.engine.Engine SELECT logs.log_id AS logs_log_id, logs.employee_id AS logs_employee_id, logs.dt AS logs_dt, logs.level AS logs_level, logs.ip AS logs_ip, logs.msg AS logs_msg \n",
      "FROM logs \n",
      "WHERE ? = logs.employee_id\n",
      "2025-07-19 18:53:18,347 INFO sqlalchemy.engine.Engine [generated in 0.00113s] ('MIRELA',)\n",
      "2025-07-19 18:53:18,351 INFO sqlalchemy.engine.Engine SELECT logs.log_id AS logs_log_id, logs.employee_id AS logs_employee_id, logs.dt AS logs_dt, logs.level AS logs_level, logs.ip AS logs_ip, logs.msg AS logs_msg \n",
      "FROM logs \n",
      "WHERE ? = logs.employee_id\n",
      "2025-07-19 18:53:18,353 INFO sqlalchemy.engine.Engine [cached since 0.0073s ago] ('PERIAM',)\n",
      "2025-07-19 18:53:18,360 INFO sqlalchemy.engine.Engine SELECT logs.log_id AS logs_log_id, logs.employee_id AS logs_employee_id, logs.dt AS logs_dt, logs.level AS logs_level, logs.ip AS logs_ip, logs.msg AS logs_msg \n",
      "FROM logs \n",
      "WHERE ? = logs.employee_id\n",
      "2025-07-19 18:53:18,360 INFO sqlalchemy.engine.Engine [cached since 0.01482s ago] ('JORONY',)\n",
      "2025-07-19 18:53:18,363 INFO sqlalchemy.engine.Engine SELECT logs.log_id AS logs_log_id, logs.employee_id AS logs_employee_id, logs.dt AS logs_dt, logs.level AS logs_level, logs.ip AS logs_ip, logs.msg AS logs_msg \n",
      "FROM logs \n",
      "WHERE ? = logs.employee_id\n",
      "2025-07-19 18:53:18,367 INFO sqlalchemy.engine.Engine [cached since 0.02209s ago] ('CALARC',)\n",
      "2025-07-19 18:53:18,371 INFO sqlalchemy.engine.Engine SELECT logs.log_id AS logs_log_id, logs.employee_id AS logs_employee_id, logs.dt AS logs_dt, logs.level AS logs_level, logs.ip AS logs_ip, logs.msg AS logs_msg \n",
      "FROM logs \n",
      "WHERE ? = logs.employee_id\n",
      "2025-07-19 18:53:18,372 INFO sqlalchemy.engine.Engine [cached since 0.0258s ago] ('WILTON',)\n",
      "2025-07-19 18:53:18,374 INFO sqlalchemy.engine.Engine SELECT logs.log_id AS logs_log_id, logs.employee_id AS logs_employee_id, logs.dt AS logs_dt, logs.level AS logs_level, logs.ip AS logs_ip, logs.msg AS logs_msg \n",
      "FROM logs \n",
      "WHERE ? = logs.employee_id\n",
      "2025-07-19 18:53:18,374 INFO sqlalchemy.engine.Engine [cached since 0.029s ago] ('JOHHER',)\n",
      "2025-07-19 18:53:18,374 INFO sqlalchemy.engine.Engine SELECT logs.log_id AS logs_log_id, logs.employee_id AS logs_employee_id, logs.dt AS logs_dt, logs.level AS logs_level, logs.ip AS logs_ip, logs.msg AS logs_msg \n",
      "FROM logs \n",
      "WHERE ? = logs.employee_id\n",
      "2025-07-19 18:53:18,374 INFO sqlalchemy.engine.Engine [cached since 0.03198s ago] ('MARREY',)\n",
      "2025-07-19 18:53:18,379 INFO sqlalchemy.engine.Engine SELECT logs.log_id AS logs_log_id, logs.employee_id AS logs_employee_id, logs.dt AS logs_dt, logs.level AS logs_level, logs.ip AS logs_ip, logs.msg AS logs_msg \n",
      "FROM logs \n",
      "WHERE ? = logs.employee_id\n",
      "2025-07-19 18:53:18,379 INFO sqlalchemy.engine.Engine [cached since 0.03409s ago] ('PARNNA',)\n",
      "2025-07-19 18:53:18,379 INFO sqlalchemy.engine.Engine SELECT logs.log_id AS logs_log_id, logs.employee_id AS logs_employee_id, logs.dt AS logs_dt, logs.level AS logs_level, logs.ip AS logs_ip, logs.msg AS logs_msg \n",
      "FROM logs \n",
      "WHERE ? = logs.employee_id\n",
      "2025-07-19 18:53:18,379 INFO sqlalchemy.engine.Engine [cached since 0.03602s ago] ('KEIFER',)\n",
      "2025-07-19 18:53:18,383 INFO sqlalchemy.engine.Engine SELECT logs.log_id AS logs_log_id, logs.employee_id AS logs_employee_id, logs.dt AS logs_dt, logs.level AS logs_level, logs.ip AS logs_ip, logs.msg AS logs_msg \n",
      "FROM logs \n",
      "WHERE ? = logs.employee_id\n",
      "2025-07-19 18:53:18,383 INFO sqlalchemy.engine.Engine [cached since 0.03897s ago] ('SANDAM',)\n",
      "2025-07-19 18:53:18,385 INFO sqlalchemy.engine.Engine SELECT logs.log_id AS logs_log_id, logs.employee_id AS logs_employee_id, logs.dt AS logs_dt, logs.level AS logs_level, logs.ip AS logs_ip, logs.msg AS logs_msg \n",
      "FROM logs \n",
      "WHERE ? = logs.employee_id\n",
      "2025-07-19 18:53:18,387 INFO sqlalchemy.engine.Engine [cached since 0.04148s ago] ('QUISAN',)\n",
      "2025-07-19 18:53:18,387 INFO sqlalchemy.engine.Engine SELECT logs.log_id AS logs_log_id, logs.employee_id AS logs_employee_id, logs.dt AS logs_dt, logs.level AS logs_level, logs.ip AS logs_ip, logs.msg AS logs_msg \n",
      "FROM logs \n",
      "WHERE ? = logs.employee_id\n",
      "2025-07-19 18:53:18,387 INFO sqlalchemy.engine.Engine [cached since 0.04381s ago] ('HERLYN',)\n",
      "2025-07-19 18:53:18,387 INFO sqlalchemy.engine.Engine SELECT logs.log_id AS logs_log_id, logs.employee_id AS logs_employee_id, logs.dt AS logs_dt, logs.level AS logs_level, logs.ip AS logs_ip, logs.msg AS logs_msg \n",
      "FROM logs \n",
      "WHERE ? = logs.employee_id\n",
      "2025-07-19 18:53:18,387 INFO sqlalchemy.engine.Engine [cached since 0.04612s ago] ('SMICOB',)\n",
      "2025-07-19 18:53:18,387 INFO sqlalchemy.engine.Engine SELECT logs.log_id AS logs_log_id, logs.employee_id AS logs_employee_id, logs.dt AS logs_dt, logs.level AS logs_level, logs.ip AS logs_ip, logs.msg AS logs_msg \n",
      "FROM logs \n",
      "WHERE ? = logs.employee_id\n",
      "2025-07-19 18:53:18,387 INFO sqlalchemy.engine.Engine [cached since 0.04835s ago] ('DURACY',)\n",
      "2025-07-19 18:53:18,396 INFO sqlalchemy.engine.Engine SELECT logs.log_id AS logs_log_id, logs.employee_id AS logs_employee_id, logs.dt AS logs_dt, logs.level AS logs_level, logs.ip AS logs_ip, logs.msg AS logs_msg \n",
      "FROM logs \n",
      "WHERE ? = logs.employee_id\n",
      "2025-07-19 18:53:18,396 INFO sqlalchemy.engine.Engine [cached since 0.05031s ago] ('CURNDA',)\n",
      "2025-07-19 18:53:18,396 INFO sqlalchemy.engine.Engine SELECT logs.log_id AS logs_log_id, logs.employee_id AS logs_employee_id, logs.dt AS logs_dt, logs.level AS logs_level, logs.ip AS logs_ip, logs.msg AS logs_msg \n",
      "FROM logs \n",
      "WHERE ? = logs.employee_id\n",
      "2025-07-19 18:53:18,396 INFO sqlalchemy.engine.Engine [cached since 0.05311s ago] ('PRIIAM',)\n",
      "2025-07-19 18:53:18,400 INFO sqlalchemy.engine.Engine SELECT logs.log_id AS logs_log_id, logs.employee_id AS logs_employee_id, logs.dt AS logs_dt, logs.level AS logs_level, logs.ip AS logs_ip, logs.msg AS logs_msg \n",
      "FROM logs \n",
      "WHERE ? = logs.employee_id\n",
      "2025-07-19 18:53:18,400 INFO sqlalchemy.engine.Engine [cached since 0.05522s ago] ('HOWREW',)\n"
     ]
    }
   ],
   "source": [
    "from collections import defaultdict,Counter\n",
    "dct = defaultdict(dict)\n",
    "for emp in emps:\n",
    "    dct[emp.emp_id] = Counter([log.level for log in emp.logs])"
   ]
  },
  {
   "cell_type": "code",
   "execution_count": 4,
   "id": "ae0f9d35",
   "metadata": {},
   "outputs": [
    {
     "data": {
      "text/plain": [
       "defaultdict(dict,\n",
       "            {'MIRELA': Counter({'WARNING': 21,\n",
       "                      'CRITICAL': 21,\n",
       "                      'ERROR': 14,\n",
       "                      'DEBUG': 14,\n",
       "                      'INFO': 7}),\n",
       "             'PERIAM': Counter({'ERROR': 22,\n",
       "                      'INFO': 20,\n",
       "                      'CRITICAL': 20,\n",
       "                      'WARNING': 18,\n",
       "                      'DEBUG': 13}),\n",
       "             'JORONY': Counter({'INFO': 20,\n",
       "                      'DEBUG': 17,\n",
       "                      'CRITICAL': 15,\n",
       "                      'ERROR': 14,\n",
       "                      'WARNING': 14}),\n",
       "             'CALARC': Counter({'DEBUG': 13,\n",
       "                      'WARNING': 13,\n",
       "                      'ERROR': 10,\n",
       "                      'INFO': 8,\n",
       "                      'CRITICAL': 6}),\n",
       "             'WILTON': Counter({'WARNING': 9,\n",
       "                      'INFO': 8,\n",
       "                      'ERROR': 8,\n",
       "                      'DEBUG': 8,\n",
       "                      'CRITICAL': 6}),\n",
       "             'JOHHER': Counter({'INFO': 12,\n",
       "                      'CRITICAL': 12,\n",
       "                      'DEBUG': 10,\n",
       "                      'WARNING': 9,\n",
       "                      'ERROR': 5}),\n",
       "             'MARREY': Counter({'ERROR': 13,\n",
       "                      'INFO': 12,\n",
       "                      'WARNING': 10,\n",
       "                      'DEBUG': 9,\n",
       "                      'CRITICAL': 8}),\n",
       "             'PARNNA': Counter({'CRITICAL': 10,\n",
       "                      'WARNING': 10,\n",
       "                      'DEBUG': 10,\n",
       "                      'ERROR': 7,\n",
       "                      'INFO': 4}),\n",
       "             'KEIFER': Counter({'DEBUG': 13,\n",
       "                      'INFO': 11,\n",
       "                      'WARNING': 7,\n",
       "                      'ERROR': 6,\n",
       "                      'CRITICAL': 5}),\n",
       "             'SANDAM': Counter({'INFO': 18,\n",
       "                      'DEBUG': 15,\n",
       "                      'ERROR': 13,\n",
       "                      'WARNING': 10,\n",
       "                      'CRITICAL': 5}),\n",
       "             'QUISAN': Counter({'WARNING': 16,\n",
       "                      'CRITICAL': 16,\n",
       "                      'INFO': 16,\n",
       "                      'ERROR': 12,\n",
       "                      'DEBUG': 9}),\n",
       "             'HERLYN': Counter({'WARNING': 13,\n",
       "                      'DEBUG': 10,\n",
       "                      'ERROR': 7,\n",
       "                      'CRITICAL': 6,\n",
       "                      'INFO': 5}),\n",
       "             'SMICOB': Counter({'CRITICAL': 16,\n",
       "                      'DEBUG': 14,\n",
       "                      'ERROR': 13,\n",
       "                      'INFO': 13,\n",
       "                      'WARNING': 11}),\n",
       "             'DURACY': Counter({'ERROR': 16,\n",
       "                      'INFO': 15,\n",
       "                      'DEBUG': 14,\n",
       "                      'WARNING': 13,\n",
       "                      'CRITICAL': 13}),\n",
       "             'CURNDA': Counter({'CRITICAL': 17,\n",
       "                      'DEBUG': 13,\n",
       "                      'INFO': 11,\n",
       "                      'WARNING': 9,\n",
       "                      'ERROR': 7}),\n",
       "             'PRIIAM': Counter({'CRITICAL': 14,\n",
       "                      'DEBUG': 12,\n",
       "                      'INFO': 11,\n",
       "                      'WARNING': 10,\n",
       "                      'ERROR': 8}),\n",
       "             'HOWREW': Counter({'INFO': 15,\n",
       "                      'CRITICAL': 13,\n",
       "                      'DEBUG': 12,\n",
       "                      'ERROR': 9,\n",
       "                      'WARNING': 8})})"
      ]
     },
     "execution_count": 4,
     "metadata": {},
     "output_type": "execute_result"
    }
   ],
   "source": [
    "dct"
   ]
  },
  {
   "cell_type": "code",
   "execution_count": 41,
   "id": "bc6c1dbb",
   "metadata": {},
   "outputs": [
    {
     "data": {
      "text/plain": [
       "'{\"4\": {\"5\": 2}}'"
      ]
     },
     "execution_count": 41,
     "metadata": {},
     "output_type": "execute_result"
    }
   ],
   "source": [
    "import json \n",
    "json.dumps(dct)"
   ]
  },
  {
   "cell_type": "code",
   "execution_count": null,
   "id": "b53c493c",
   "metadata": {},
   "outputs": [],
   "source": []
  }
 ],
 "metadata": {
  "kernelspec": {
   "display_name": "Python 3",
   "language": "python",
   "name": "python3"
  },
  "language_info": {
   "codemirror_mode": {
    "name": "ipython",
    "version": 3
   },
   "file_extension": ".py",
   "mimetype": "text/x-python",
   "name": "python",
   "nbconvert_exporter": "python",
   "pygments_lexer": "ipython3",
   "version": "3.12.2"
  }
 },
 "nbformat": 4,
 "nbformat_minor": 5
}
